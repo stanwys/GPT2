{
  "nbformat": 4,
  "nbformat_minor": 0,
  "metadata": {
    "colab": {
      "name": "GPT2.ipynb",
      "provenance": [],
      "collapsed_sections": []
    },
    "kernelspec": {
      "name": "python3",
      "display_name": "Python 3"
    },
    "accelerator": "GPU"
  },
  "cells": [
    {
      "cell_type": "code",
      "metadata": {
        "colab": {
          "base_uri": "https://localhost:8080/"
        },
        "id": "w1H7mstKdPNM",
        "outputId": "fb489084-74ed-40f9-8b25-a9e4f1d59a0b"
      },
      "source": [
        "!pwd"
      ],
      "execution_count": 1,
      "outputs": [
        {
          "output_type": "stream",
          "text": [
            "/content\n"
          ],
          "name": "stdout"
        }
      ]
    },
    {
      "cell_type": "code",
      "metadata": {
        "colab": {
          "base_uri": "https://localhost:8080/"
        },
        "id": "TZFNarwnOP09",
        "outputId": "c951baac-7b88-4c48-941d-77afa34cb441"
      },
      "source": [
        "%cd drive/MyDrive/GSN"
      ],
      "execution_count": 2,
      "outputs": [
        {
          "output_type": "stream",
          "text": [
            "/content/drive/MyDrive/GSN\n"
          ],
          "name": "stdout"
        }
      ]
    },
    {
      "cell_type": "code",
      "metadata": {
        "colab": {
          "base_uri": "https://localhost:8080/"
        },
        "id": "OWJMdDgGNavm",
        "outputId": "05735401-05ab-479f-d783-e289dd2f9d53"
      },
      "source": [
        "!git clone https://github.com/stanwys/GPT2.git"
      ],
      "execution_count": 3,
      "outputs": [
        {
          "output_type": "stream",
          "text": [
            "Cloning into 'GPT2'...\n",
            "remote: Enumerating objects: 71, done.\u001b[K\n",
            "remote: Counting objects: 100% (71/71), done.\u001b[K\n",
            "remote: Compressing objects: 100% (51/51), done.\u001b[K\n",
            "remote: Total 71 (delta 34), reused 45 (delta 15), pack-reused 0\u001b[K\n",
            "Unpacking objects: 100% (71/71), done.\n"
          ],
          "name": "stdout"
        }
      ]
    },
    {
      "cell_type": "code",
      "metadata": {
        "colab": {
          "base_uri": "https://localhost:8080/"
        },
        "id": "fYvu_-t1Txa7",
        "outputId": "7dd94892-158b-42c1-9dcf-f08a2eb9749a"
      },
      "source": [
        "%cd GPT2"
      ],
      "execution_count": 3,
      "outputs": [
        {
          "output_type": "stream",
          "text": [
            "/content/drive/MyDrive/GSN/GPT2\n"
          ],
          "name": "stdout"
        }
      ]
    },
    {
      "cell_type": "code",
      "metadata": {
        "id": "L5t3UDUVcLfq"
      },
      "source": [
        "import encoder\r\n",
        "import tensorflow as tf\r\n",
        "from model import GPT2Model\r\n",
        "from utils import default_hparams\r\n",
        "from load_dataset import my_load_dataset, Sampler\r\n",
        "from train import train\r\n",
        "from test_model import test_model"
      ],
      "execution_count": 4,
      "outputs": []
    },
    {
      "cell_type": "code",
      "metadata": {
        "id": "v3xWzNRveWVW"
      },
      "source": [
        "train(batch_size=8,\r\n",
        "      num_epochs=1,\r\n",
        "      learning_rate=0.001,\r\n",
        "      num_tokens_sequence=256,\r\n",
        "      read_initial_weights=False,\r\n",
        "      save_weights=True,\r\n",
        "      save_model_every_num_iter=2000,\r\n",
        "      n_layers = 12,\r\n",
        "      weights_path_read=\"./weights_colab/checkpoint\",\r\n",
        "      weights_path_write=\"./weights_colab/checkpoint2\",\r\n",
        "      input_path=\"../data/small-117Mtrain.txt\",\r\n",
        "      save_training_results_path = \"./results/training2.csv\",\r\n",
        "      save_training_results_every = 10,\r\n",
        "      show_every=100)"
      ],
      "execution_count": null,
      "outputs": []
    },
    {
      "cell_type": "code",
      "metadata": {
        "colab": {
          "base_uri": "https://localhost:8080/"
        },
        "id": "lffIufRa0gjw",
        "outputId": "eade8b88-731e-4b36-b4b4-dccbcc752c62"
      },
      "source": [
        "test_model(mode = \"LAMBADA\",\r\n",
        "               dataset_input_path = \"../data/lambada_test_plain_text.txt\",\r\n",
        "               weights_input_path = \"weights_colab/checkpoint3\",\r\n",
        "               results_output_path = \"results/test_lambada.txt\",\r\n",
        "               results_output_mode = \"w\",\r\n",
        "               max_context_length=1023)\r\n"
      ],
      "execution_count": 5,
      "outputs": [
        {
          "output_type": "stream",
          "text": [
            "iteration:  0  of  5153\n",
            "iteration:  100  of  5153\n",
            "iteration:  200  of  5153\n",
            "iteration:  300  of  5153\n",
            "iteration:  400  of  5153\n",
            "iteration:  500  of  5153\n",
            "iteration:  600  of  5153\n",
            "iteration:  700  of  5153\n",
            "iteration:  800  of  5153\n",
            "iteration:  900  of  5153\n",
            "iteration:  1000  of  5153\n",
            "iteration:  1100  of  5153\n",
            "iteration:  1200  of  5153\n",
            "iteration:  1300  of  5153\n",
            "iteration:  1400  of  5153\n",
            "iteration:  1500  of  5153\n",
            "iteration:  1600  of  5153\n",
            "iteration:  1700  of  5153\n",
            "iteration:  1800  of  5153\n",
            "iteration:  1900  of  5153\n",
            "iteration:  2000  of  5153\n",
            "iteration:  2100  of  5153\n",
            "iteration:  2200  of  5153\n",
            "iteration:  2300  of  5153\n",
            "iteration:  2400  of  5153\n",
            "iteration:  2500  of  5153\n",
            "iteration:  2600  of  5153\n",
            "iteration:  2700  of  5153\n",
            "iteration:  2800  of  5153\n",
            "iteration:  2900  of  5153\n",
            "iteration:  3000  of  5153\n",
            "iteration:  3100  of  5153\n",
            "iteration:  3200  of  5153\n",
            "iteration:  3300  of  5153\n",
            "iteration:  3400  of  5153\n",
            "iteration:  3500  of  5153\n",
            "iteration:  3600  of  5153\n",
            "iteration:  3700  of  5153\n",
            "iteration:  3800  of  5153\n",
            "iteration:  3900  of  5153\n",
            "iteration:  4000  of  5153\n",
            "iteration:  4100  of  5153\n",
            "iteration:  4200  of  5153\n",
            "iteration:  4300  of  5153\n",
            "iteration:  4400  of  5153\n",
            "iteration:  4500  of  5153\n",
            "iteration:  4600  of  5153\n",
            "iteration:  4700  of  5153\n",
            "iteration:  4800  of  5153\n",
            "iteration:  4900  of  5153\n",
            "iteration:  5000  of  5153\n",
            "iteration:  5100  of  5153\n"
          ],
          "name": "stdout"
        }
      ]
    },
    {
      "cell_type": "code",
      "metadata": {
        "colab": {
          "base_uri": "https://localhost:8080/"
        },
        "id": "NQgLlSI01Jjy",
        "outputId": "7ba5e11d-140e-4907-c609-eee874705cf2"
      },
      "source": [
        "test_model(mode = \"CBT\",\r\n",
        "               dataset_input_path = \"../data/cbtest_CN_test_2500ex.txt\",\r\n",
        "               weights_input_path = \"weights_colab/checkpoint3\",\r\n",
        "               results_output_path = \"results/test_cbt_CN.txt\",\r\n",
        "               results_output_mode = \"w\",\r\n",
        "               max_context_length=1023)"
      ],
      "execution_count": 7,
      "outputs": [
        {
          "output_type": "stream",
          "text": [
            "iteration:  0  of  2500\n",
            "iteration:  100  of  2500\n",
            "iteration:  200  of  2500\n",
            "iteration:  300  of  2500\n",
            "iteration:  400  of  2500\n",
            "iteration:  500  of  2500\n",
            "iteration:  600  of  2500\n",
            "iteration:  700  of  2500\n",
            "iteration:  800  of  2500\n",
            "iteration:  900  of  2500\n",
            "iteration:  1000  of  2500\n",
            "iteration:  1100  of  2500\n",
            "iteration:  1200  of  2500\n",
            "iteration:  1300  of  2500\n",
            "iteration:  1400  of  2500\n",
            "iteration:  1500  of  2500\n",
            "iteration:  1600  of  2500\n",
            "iteration:  1700  of  2500\n",
            "iteration:  1800  of  2500\n",
            "iteration:  1900  of  2500\n",
            "iteration:  2000  of  2500\n",
            "iteration:  2100  of  2500\n",
            "iteration:  2200  of  2500\n",
            "iteration:  2300  of  2500\n",
            "iteration:  2400  of  2500\n"
          ],
          "name": "stdout"
        }
      ]
    },
    {
      "cell_type": "code",
      "metadata": {
        "id": "bD1Ccu-DfnuG",
        "colab": {
          "base_uri": "https://localhost:8080/"
        },
        "outputId": "f3d367ab-0236-4aff-b98c-7912ab7a7b5a"
      },
      "source": [
        "test_model(mode = \"CBT\",\r\n",
        "               dataset_input_path = \"../data/cbtest_NE_test_2500ex.txt\",\r\n",
        "               weights_input_path = \"weights_colab/checkpoint3\",\r\n",
        "               results_output_path = \"results/test_cbt_NE.txt\",\r\n",
        "               results_output_mode = \"w\",\r\n",
        "               max_context_length=1023)"
      ],
      "execution_count": 6,
      "outputs": [
        {
          "output_type": "stream",
          "text": [
            "iteration:  0  of  2500\n",
            "iteration:  100  of  2500\n",
            "iteration:  200  of  2500\n",
            "iteration:  300  of  2500\n",
            "iteration:  400  of  2500\n",
            "iteration:  500  of  2500\n",
            "iteration:  600  of  2500\n",
            "iteration:  700  of  2500\n",
            "iteration:  800  of  2500\n",
            "iteration:  900  of  2500\n",
            "iteration:  1000  of  2500\n",
            "iteration:  1100  of  2500\n",
            "iteration:  1200  of  2500\n",
            "iteration:  1300  of  2500\n",
            "iteration:  1400  of  2500\n",
            "iteration:  1500  of  2500\n",
            "iteration:  1600  of  2500\n",
            "iteration:  1700  of  2500\n",
            "iteration:  1800  of  2500\n",
            "iteration:  1900  of  2500\n",
            "iteration:  2000  of  2500\n",
            "iteration:  2100  of  2500\n",
            "iteration:  2200  of  2500\n",
            "iteration:  2300  of  2500\n",
            "iteration:  2400  of  2500\n"
          ],
          "name": "stdout"
        }
      ]
    },
    {
      "cell_type": "code",
      "metadata": {
        "id": "6jXyvd-m-Gmp"
      },
      "source": [
        ""
      ],
      "execution_count": null,
      "outputs": []
    }
  ]
}