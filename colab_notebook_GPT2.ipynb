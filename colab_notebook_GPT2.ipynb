{
  "nbformat": 4,
  "nbformat_minor": 0,
  "metadata": {
    "colab": {
      "name": "GPT2.ipynb",
      "provenance": [],
      "collapsed_sections": []
    },
    "kernelspec": {
      "name": "python3",
      "display_name": "Python 3"
    },
    "accelerator": "GPU"
  },
  "cells": [
    {
      "cell_type": "code",
      "metadata": {
        "colab": {
          "base_uri": "https://localhost:8080/"
        },
        "id": "w1H7mstKdPNM",
        "outputId": "fb489084-74ed-40f9-8b25-a9e4f1d59a0b"
      },
      "source": [
        "!pwd"
      ],
      "execution_count": 1,
      "outputs": [
        {
          "output_type": "stream",
          "text": [
            "/content\n"
          ],
          "name": "stdout"
        }
      ]
    },
    {
      "cell_type": "code",
      "metadata": {
        "colab": {
          "base_uri": "https://localhost:8080/"
        },
        "id": "TZFNarwnOP09",
        "outputId": "c951baac-7b88-4c48-941d-77afa34cb441"
      },
      "source": [
        "%cd drive/MyDrive/GSN"
      ],
      "execution_count": 2,
      "outputs": [
        {
          "output_type": "stream",
          "text": [
            "/content/drive/MyDrive/GSN\n"
          ],
          "name": "stdout"
        }
      ]
    },
    {
      "cell_type": "code",
      "metadata": {
        "colab": {
          "base_uri": "https://localhost:8080/"
        },
        "id": "OWJMdDgGNavm",
        "outputId": "05735401-05ab-479f-d783-e289dd2f9d53"
      },
      "source": [
        "!git clone https://github.com/stanwys/GPT2.git"
      ],
      "execution_count": 3,
      "outputs": [
        {
          "output_type": "stream",
          "text": [
            "Cloning into 'GPT2'...\n",
            "remote: Enumerating objects: 71, done.\u001b[K\n",
            "remote: Counting objects: 100% (71/71), done.\u001b[K\n",
            "remote: Compressing objects: 100% (51/51), done.\u001b[K\n",
            "remote: Total 71 (delta 34), reused 45 (delta 15), pack-reused 0\u001b[K\n",
            "Unpacking objects: 100% (71/71), done.\n"
          ],
          "name": "stdout"
        }
      ]
    },
    {
      "cell_type": "code",
      "metadata": {
        "colab": {
          "base_uri": "https://localhost:8080/"
        },
        "id": "fYvu_-t1Txa7",
        "outputId": "7dd94892-158b-42c1-9dcf-f08a2eb9749a"
      },
      "source": [
        "%cd GPT2"
      ],
      "execution_count": 3,
      "outputs": [
        {
          "output_type": "stream",
          "text": [
            "/content/drive/MyDrive/GSN/GPT2\n"
          ],
          "name": "stdout"
        }
      ]
    },
    {
      "cell_type": "code",
      "metadata": {
        "id": "L5t3UDUVcLfq"
      },
      "source": [
        "import encoder\r\n",
        "import tensorflow as tf\r\n",
        "from model import GPT2Model\r\n",
        "from utils import default_hparams\r\n",
        "from load_dataset import my_load_dataset, Sampler\r\n",
        "from train import train\r\n",
        "from test_model import test_model"
      ],
      "execution_count": 4,
      "outputs": []
    },
    {
      "cell_type": "code",
      "metadata": {
        "colab": {
          "base_uri": "https://localhost:8080/",
          "height": 1000
        },
        "id": "v3xWzNRveWVW",
        "outputId": "3579d92f-83cd-44ff-eb5c-1abc867880b2"
      },
      "source": [
        "train(batch_size=8,\r\n",
        "      num_epochs=1,\r\n",
        "      learning_rate=0.001,\r\n",
        "      num_tokens_sequence=256,\r\n",
        "      read_initial_weights=False,\r\n",
        "      save_weights=True,\r\n",
        "      save_model_every_num_iter=2000,\r\n",
        "      n_layers = 12,\r\n",
        "      weights_path_read=\"./weights_colab/checkpoint\",\r\n",
        "      weights_path_write=\"./weights_colab/checkpoint2\",\r\n",
        "      input_path=\"../data/small-117Mtrain.txt\",\r\n",
        "      save_training_results_path = \"./results/training2.csv\",\r\n",
        "      save_training_results_every = 10,\r\n",
        "      show_every=100)"
      ],
      "execution_count": 6,
      "outputs": [
        {
          "output_type": "stream",
          "text": [
            "Total epochs:  1\n",
            "Num of iterations per epoch:  82177\n",
            "Batch size:  8\n",
            "Sequence length(in tokens):  256\n",
            "Epoch:  0\n",
            "[0 of 82177 | 7.31] loss=10.99 avg=10.99\n",
            "[100 of 82177 | 73.62] loss=8.24 avg=8.57\n",
            "[200 of 82177 | 139.85] loss=8.21 avg=8.37\n",
            "[300 of 82177 | 206.54] loss=7.79 avg=8.14\n",
            "[400 of 82177 | 273.49] loss=7.77 avg=7.96\n",
            "[500 of 82177 | 340.52] loss=7.40 avg=7.79\n",
            "[600 of 82177 | 407.35] loss=7.59 avg=7.65\n",
            "[700 of 82177 | 474.18] loss=7.44 avg=7.60\n",
            "[800 of 82177 | 541.17] loss=7.61 avg=7.53\n",
            "[900 of 82177 | 608.10] loss=7.63 avg=7.51\n",
            "[1000 of 82177 | 674.92] loss=7.39 avg=7.46\n",
            "[1100 of 82177 | 741.83] loss=7.08 avg=7.40\n",
            "[1200 of 82177 | 808.68] loss=7.24 avg=7.37\n",
            "[1300 of 82177 | 875.53] loss=7.44 avg=7.35\n",
            "[1400 of 82177 | 942.49] loss=7.49 avg=7.34\n",
            "[1500 of 82177 | 1009.40] loss=7.33 avg=7.32\n",
            "[1600 of 82177 | 1076.29] loss=7.08 avg=7.32\n",
            "[1700 of 82177 | 1143.18] loss=7.52 avg=7.32\n",
            "[1800 of 82177 | 1210.02] loss=7.39 avg=7.31\n",
            "[1900 of 82177 | 1276.97] loss=7.27 avg=7.30\n",
            "Model weights saved\n",
            "[2000 of 82177 | 1345.80] loss=7.12 avg=7.27\n",
            "[2100 of 82177 | 1412.89] loss=7.24 avg=7.27\n",
            "[2200 of 82177 | 1479.73] loss=7.14 avg=7.26\n",
            "[2300 of 82177 | 1546.54] loss=7.04 avg=7.28\n",
            "[2400 of 82177 | 1613.38] loss=7.36 avg=7.26\n",
            "[2500 of 82177 | 1680.27] loss=7.27 avg=7.27\n",
            "[2600 of 82177 | 1747.10] loss=7.36 avg=7.26\n",
            "[2700 of 82177 | 1814.05] loss=7.21 avg=7.26\n",
            "[2800 of 82177 | 1880.96] loss=7.17 avg=7.24\n",
            "[2900 of 82177 | 1947.75] loss=7.14 avg=7.29\n",
            "[3000 of 82177 | 2014.58] loss=7.00 avg=7.28\n",
            "[3100 of 82177 | 2081.42] loss=7.43 avg=7.26\n",
            "[3200 of 82177 | 2148.26] loss=7.12 avg=7.22\n",
            "[3300 of 82177 | 2215.10] loss=7.42 avg=7.23\n",
            "[3400 of 82177 | 2281.89] loss=7.19 avg=7.24\n",
            "[3500 of 82177 | 2348.73] loss=7.56 avg=7.25\n",
            "[3600 of 82177 | 2415.56] loss=6.77 avg=7.23\n",
            "[3700 of 82177 | 2482.39] loss=6.93 avg=7.20\n",
            "[3800 of 82177 | 2549.27] loss=7.47 avg=7.21\n",
            "[3900 of 82177 | 2616.13] loss=7.27 avg=7.23\n",
            "Model weights saved\n",
            "[4000 of 82177 | 2685.07] loss=7.13 avg=7.21\n",
            "[4100 of 82177 | 2752.14] loss=7.34 avg=7.23\n",
            "[4200 of 82177 | 2818.63] loss=7.57 avg=7.22\n",
            "[4300 of 82177 | 2885.43] loss=7.10 avg=7.21\n",
            "[4400 of 82177 | 2952.26] loss=6.73 avg=7.18\n",
            "[4500 of 82177 | 3019.12] loss=7.14 avg=7.19\n",
            "[4600 of 82177 | 3086.02] loss=7.30 avg=7.21\n",
            "[4700 of 82177 | 3152.79] loss=7.23 avg=7.22\n",
            "[4800 of 82177 | 3219.64] loss=7.53 avg=7.25\n",
            "[4900 of 82177 | 3286.37] loss=7.96 avg=7.29\n",
            "[5000 of 82177 | 3353.10] loss=7.15 avg=7.32\n",
            "[5100 of 82177 | 3419.76] loss=7.19 avg=7.35\n",
            "[5200 of 82177 | 3486.40] loss=7.11 avg=7.37\n",
            "[5300 of 82177 | 3553.17] loss=7.30 avg=7.36\n",
            "[5400 of 82177 | 3619.89] loss=7.55 avg=7.35\n",
            "[5500 of 82177 | 3686.52] loss=7.61 avg=7.39\n",
            "[5600 of 82177 | 3753.18] loss=7.65 avg=7.40\n",
            "[5700 of 82177 | 3819.88] loss=7.72 avg=7.43\n",
            "[5800 of 82177 | 3886.63] loss=7.27 avg=7.41\n",
            "[5900 of 82177 | 3952.96] loss=7.52 avg=7.43\n",
            "Model weights saved\n",
            "[6000 of 82177 | 4021.57] loss=7.24 avg=7.45\n",
            "[6100 of 82177 | 4088.28] loss=7.22 avg=7.47\n",
            "[6200 of 82177 | 4154.77] loss=7.45 avg=7.46\n",
            "[6300 of 82177 | 4221.20] loss=7.66 avg=7.45\n",
            "[6400 of 82177 | 4287.79] loss=7.11 avg=7.47\n",
            "[6500 of 82177 | 4354.37] loss=7.48 avg=7.49\n"
          ],
          "name": "stdout"
        },
        {
          "output_type": "error",
          "ename": "KeyboardInterrupt",
          "evalue": "ignored",
          "traceback": [
            "\u001b[0;31m---------------------------------------------------------------------------\u001b[0m",
            "\u001b[0;31mKeyboardInterrupt\u001b[0m                         Traceback (most recent call last)",
            "\u001b[0;32m<ipython-input-6-97e5ee265eb3>\u001b[0m in \u001b[0;36m<module>\u001b[0;34m()\u001b[0m\n\u001b[1;32m     12\u001b[0m       \u001b[0msave_training_results_path\u001b[0m \u001b[0;34m=\u001b[0m \u001b[0;34m\"./results/training2.csv\"\u001b[0m\u001b[0;34m,\u001b[0m\u001b[0;34m\u001b[0m\u001b[0;34m\u001b[0m\u001b[0m\n\u001b[1;32m     13\u001b[0m       \u001b[0msave_training_results_every\u001b[0m \u001b[0;34m=\u001b[0m \u001b[0;36m10\u001b[0m\u001b[0;34m,\u001b[0m\u001b[0;34m\u001b[0m\u001b[0;34m\u001b[0m\u001b[0m\n\u001b[0;32m---> 14\u001b[0;31m       show_every=100)\n\u001b[0m",
            "\u001b[0;32m/content/drive/My Drive/GSN/GPT2/train.py\u001b[0m in \u001b[0;36mtrain\u001b[0;34m(batch_size, num_epochs, learning_rate, num_tokens_sequence, save_model_every_num_iter, input_path, read_initial_weights, save_weights, n_layers, weights_path_read, weights_path_write, save_training_results_path, save_training_results_every, show_every)\u001b[0m\n\u001b[1;32m     81\u001b[0m                 \u001b[0mloss\u001b[0m \u001b[0;34m=\u001b[0m \u001b[0mtf\u001b[0m\u001b[0;34m.\u001b[0m\u001b[0mreduce_mean\u001b[0m\u001b[0;34m(\u001b[0m\u001b[0mtf\u001b[0m\u001b[0;34m.\u001b[0m\u001b[0mstack\u001b[0m\u001b[0;34m(\u001b[0m\u001b[0mtensors\u001b[0m\u001b[0;34m,\u001b[0m \u001b[0maxis\u001b[0m \u001b[0;34m=\u001b[0m \u001b[0;36m1\u001b[0m\u001b[0;34m)\u001b[0m\u001b[0;34m)\u001b[0m\u001b[0;34m\u001b[0m\u001b[0;34m\u001b[0m\u001b[0m\n\u001b[1;32m     82\u001b[0m                 '''\n\u001b[0;32m---> 83\u001b[0;31m             \u001b[0mgradients\u001b[0m \u001b[0;34m=\u001b[0m \u001b[0mtape\u001b[0m\u001b[0;34m.\u001b[0m\u001b[0mgradient\u001b[0m\u001b[0;34m(\u001b[0m\u001b[0mloss\u001b[0m\u001b[0;34m,\u001b[0m \u001b[0mmodel\u001b[0m\u001b[0;34m.\u001b[0m\u001b[0mtrainable_variables\u001b[0m\u001b[0;34m)\u001b[0m\u001b[0;34m\u001b[0m\u001b[0;34m\u001b[0m\u001b[0m\n\u001b[0m\u001b[1;32m     84\u001b[0m             \u001b[0moptimizer\u001b[0m\u001b[0;34m.\u001b[0m\u001b[0mapply_gradients\u001b[0m\u001b[0;34m(\u001b[0m\u001b[0mzip\u001b[0m\u001b[0;34m(\u001b[0m\u001b[0mgradients\u001b[0m\u001b[0;34m,\u001b[0m \u001b[0mmodel\u001b[0m\u001b[0;34m.\u001b[0m\u001b[0mtrainable_variables\u001b[0m\u001b[0;34m)\u001b[0m\u001b[0;34m)\u001b[0m\u001b[0;34m\u001b[0m\u001b[0;34m\u001b[0m\u001b[0m\n\u001b[1;32m     85\u001b[0m \u001b[0;34m\u001b[0m\u001b[0m\n",
            "\u001b[0;32m/usr/local/lib/python3.6/dist-packages/tensorflow/python/eager/backprop.py\u001b[0m in \u001b[0;36mgradient\u001b[0;34m(self, target, sources, output_gradients, unconnected_gradients)\u001b[0m\n\u001b[1;32m   1084\u001b[0m         \u001b[0moutput_gradients\u001b[0m\u001b[0;34m=\u001b[0m\u001b[0moutput_gradients\u001b[0m\u001b[0;34m,\u001b[0m\u001b[0;34m\u001b[0m\u001b[0;34m\u001b[0m\u001b[0m\n\u001b[1;32m   1085\u001b[0m         \u001b[0msources_raw\u001b[0m\u001b[0;34m=\u001b[0m\u001b[0mflat_sources_raw\u001b[0m\u001b[0;34m,\u001b[0m\u001b[0;34m\u001b[0m\u001b[0;34m\u001b[0m\u001b[0m\n\u001b[0;32m-> 1086\u001b[0;31m         unconnected_gradients=unconnected_gradients)\n\u001b[0m\u001b[1;32m   1087\u001b[0m \u001b[0;34m\u001b[0m\u001b[0m\n\u001b[1;32m   1088\u001b[0m     \u001b[0;32mif\u001b[0m \u001b[0;32mnot\u001b[0m \u001b[0mself\u001b[0m\u001b[0;34m.\u001b[0m\u001b[0m_persistent\u001b[0m\u001b[0;34m:\u001b[0m\u001b[0;34m\u001b[0m\u001b[0;34m\u001b[0m\u001b[0m\n",
            "\u001b[0;32m/usr/local/lib/python3.6/dist-packages/tensorflow/python/eager/imperative_grad.py\u001b[0m in \u001b[0;36mimperative_grad\u001b[0;34m(tape, target, sources, output_gradients, sources_raw, unconnected_gradients)\u001b[0m\n\u001b[1;32m     75\u001b[0m       \u001b[0moutput_gradients\u001b[0m\u001b[0;34m,\u001b[0m\u001b[0;34m\u001b[0m\u001b[0;34m\u001b[0m\u001b[0m\n\u001b[1;32m     76\u001b[0m       \u001b[0msources_raw\u001b[0m\u001b[0;34m,\u001b[0m\u001b[0;34m\u001b[0m\u001b[0;34m\u001b[0m\u001b[0m\n\u001b[0;32m---> 77\u001b[0;31m       compat.as_str(unconnected_gradients.value))\n\u001b[0m",
            "\u001b[0;32m/usr/local/lib/python3.6/dist-packages/tensorflow/python/eager/backprop.py\u001b[0m in \u001b[0;36m_gradient_function\u001b[0;34m(op_name, attr_tuple, num_inputs, inputs, outputs, out_grads, skip_input_indices, forward_pass_name_scope)\u001b[0m\n\u001b[1;32m    160\u001b[0m       \u001b[0mgradient_name_scope\u001b[0m \u001b[0;34m+=\u001b[0m \u001b[0mforward_pass_name_scope\u001b[0m \u001b[0;34m+\u001b[0m \u001b[0;34m\"/\"\u001b[0m\u001b[0;34m\u001b[0m\u001b[0;34m\u001b[0m\u001b[0m\n\u001b[1;32m    161\u001b[0m     \u001b[0;32mwith\u001b[0m \u001b[0mops\u001b[0m\u001b[0;34m.\u001b[0m\u001b[0mname_scope\u001b[0m\u001b[0;34m(\u001b[0m\u001b[0mgradient_name_scope\u001b[0m\u001b[0;34m)\u001b[0m\u001b[0;34m:\u001b[0m\u001b[0;34m\u001b[0m\u001b[0;34m\u001b[0m\u001b[0m\n\u001b[0;32m--> 162\u001b[0;31m       \u001b[0;32mreturn\u001b[0m \u001b[0mgrad_fn\u001b[0m\u001b[0;34m(\u001b[0m\u001b[0mmock_op\u001b[0m\u001b[0;34m,\u001b[0m \u001b[0;34m*\u001b[0m\u001b[0mout_grads\u001b[0m\u001b[0;34m)\u001b[0m\u001b[0;34m\u001b[0m\u001b[0;34m\u001b[0m\u001b[0m\n\u001b[0m\u001b[1;32m    163\u001b[0m   \u001b[0;32melse\u001b[0m\u001b[0;34m:\u001b[0m\u001b[0;34m\u001b[0m\u001b[0;34m\u001b[0m\u001b[0m\n\u001b[1;32m    164\u001b[0m     \u001b[0;32mreturn\u001b[0m \u001b[0mgrad_fn\u001b[0m\u001b[0;34m(\u001b[0m\u001b[0mmock_op\u001b[0m\u001b[0;34m,\u001b[0m \u001b[0;34m*\u001b[0m\u001b[0mout_grads\u001b[0m\u001b[0;34m)\u001b[0m\u001b[0;34m\u001b[0m\u001b[0;34m\u001b[0m\u001b[0m\n",
            "\u001b[0;32m/usr/local/lib/python3.6/dist-packages/tensorflow/python/ops/resource_variable_ops.py\u001b[0m in \u001b[0;36m_GatherGrad\u001b[0;34m(op, grad)\u001b[0m\n\u001b[1;32m   2159\u001b[0m   \u001b[0mvalues_shape\u001b[0m \u001b[0;34m=\u001b[0m \u001b[0marray_ops\u001b[0m\u001b[0;34m.\u001b[0m\u001b[0mconcat\u001b[0m\u001b[0;34m(\u001b[0m\u001b[0;34m[\u001b[0m\u001b[0msize\u001b[0m\u001b[0;34m,\u001b[0m \u001b[0mparams_shape\u001b[0m\u001b[0;34m[\u001b[0m\u001b[0;36m1\u001b[0m\u001b[0;34m:\u001b[0m\u001b[0;34m]\u001b[0m\u001b[0;34m]\u001b[0m\u001b[0;34m,\u001b[0m \u001b[0;36m0\u001b[0m\u001b[0;34m)\u001b[0m\u001b[0;34m\u001b[0m\u001b[0;34m\u001b[0m\u001b[0m\n\u001b[1;32m   2160\u001b[0m   \u001b[0mvalues\u001b[0m \u001b[0;34m=\u001b[0m \u001b[0marray_ops\u001b[0m\u001b[0;34m.\u001b[0m\u001b[0mreshape\u001b[0m\u001b[0;34m(\u001b[0m\u001b[0mgrad\u001b[0m\u001b[0;34m,\u001b[0m \u001b[0mvalues_shape\u001b[0m\u001b[0;34m)\u001b[0m\u001b[0;34m\u001b[0m\u001b[0;34m\u001b[0m\u001b[0m\n\u001b[0;32m-> 2161\u001b[0;31m   \u001b[0mindices\u001b[0m \u001b[0;34m=\u001b[0m \u001b[0marray_ops\u001b[0m\u001b[0;34m.\u001b[0m\u001b[0mreshape\u001b[0m\u001b[0;34m(\u001b[0m\u001b[0mindices\u001b[0m\u001b[0;34m,\u001b[0m \u001b[0msize\u001b[0m\u001b[0;34m)\u001b[0m\u001b[0;34m\u001b[0m\u001b[0;34m\u001b[0m\u001b[0m\n\u001b[0m\u001b[1;32m   2162\u001b[0m   \u001b[0;32mreturn\u001b[0m \u001b[0;34m(\u001b[0m\u001b[0mops\u001b[0m\u001b[0;34m.\u001b[0m\u001b[0mIndexedSlices\u001b[0m\u001b[0;34m(\u001b[0m\u001b[0mvalues\u001b[0m\u001b[0;34m,\u001b[0m \u001b[0mindices\u001b[0m\u001b[0;34m,\u001b[0m \u001b[0mparams_shape\u001b[0m\u001b[0;34m)\u001b[0m\u001b[0;34m,\u001b[0m \u001b[0;32mNone\u001b[0m\u001b[0;34m)\u001b[0m\u001b[0;34m\u001b[0m\u001b[0;34m\u001b[0m\u001b[0m\n\u001b[1;32m   2163\u001b[0m \u001b[0;34m\u001b[0m\u001b[0m\n",
            "\u001b[0;32m/usr/local/lib/python3.6/dist-packages/tensorflow/python/util/dispatch.py\u001b[0m in \u001b[0;36mwrapper\u001b[0;34m(*args, **kwargs)\u001b[0m\n\u001b[1;32m    199\u001b[0m     \u001b[0;34m\"\"\"Call target, and fall back on dispatchers if there is a TypeError.\"\"\"\u001b[0m\u001b[0;34m\u001b[0m\u001b[0;34m\u001b[0m\u001b[0m\n\u001b[1;32m    200\u001b[0m     \u001b[0;32mtry\u001b[0m\u001b[0;34m:\u001b[0m\u001b[0;34m\u001b[0m\u001b[0;34m\u001b[0m\u001b[0m\n\u001b[0;32m--> 201\u001b[0;31m       \u001b[0;32mreturn\u001b[0m \u001b[0mtarget\u001b[0m\u001b[0;34m(\u001b[0m\u001b[0;34m*\u001b[0m\u001b[0margs\u001b[0m\u001b[0;34m,\u001b[0m \u001b[0;34m**\u001b[0m\u001b[0mkwargs\u001b[0m\u001b[0;34m)\u001b[0m\u001b[0;34m\u001b[0m\u001b[0;34m\u001b[0m\u001b[0m\n\u001b[0m\u001b[1;32m    202\u001b[0m     \u001b[0;32mexcept\u001b[0m \u001b[0;34m(\u001b[0m\u001b[0mTypeError\u001b[0m\u001b[0;34m,\u001b[0m \u001b[0mValueError\u001b[0m\u001b[0;34m)\u001b[0m\u001b[0;34m:\u001b[0m\u001b[0;34m\u001b[0m\u001b[0;34m\u001b[0m\u001b[0m\n\u001b[1;32m    203\u001b[0m       \u001b[0;31m# Note: convert_to_eager_tensor currently raises a ValueError, not a\u001b[0m\u001b[0;34m\u001b[0m\u001b[0;34m\u001b[0m\u001b[0;34m\u001b[0m\u001b[0m\n",
            "\u001b[0;32m/usr/local/lib/python3.6/dist-packages/tensorflow/python/ops/array_ops.py\u001b[0m in \u001b[0;36mreshape\u001b[0;34m(tensor, shape, name)\u001b[0m\n\u001b[1;32m    193\u001b[0m     \u001b[0mA\u001b[0m\u001b[0;31m \u001b[0m\u001b[0;31m`\u001b[0m\u001b[0mTensor\u001b[0m\u001b[0;31m`\u001b[0m\u001b[0;34m.\u001b[0m \u001b[0mHas\u001b[0m \u001b[0mthe\u001b[0m \u001b[0msame\u001b[0m \u001b[0mtype\u001b[0m \u001b[0;32mas\u001b[0m\u001b[0;31m \u001b[0m\u001b[0;31m`\u001b[0m\u001b[0mtensor\u001b[0m\u001b[0;31m`\u001b[0m\u001b[0;34m.\u001b[0m\u001b[0;34m\u001b[0m\u001b[0;34m\u001b[0m\u001b[0m\n\u001b[1;32m    194\u001b[0m   \"\"\"\n\u001b[0;32m--> 195\u001b[0;31m   \u001b[0mresult\u001b[0m \u001b[0;34m=\u001b[0m \u001b[0mgen_array_ops\u001b[0m\u001b[0;34m.\u001b[0m\u001b[0mreshape\u001b[0m\u001b[0;34m(\u001b[0m\u001b[0mtensor\u001b[0m\u001b[0;34m,\u001b[0m \u001b[0mshape\u001b[0m\u001b[0;34m,\u001b[0m \u001b[0mname\u001b[0m\u001b[0;34m)\u001b[0m\u001b[0;34m\u001b[0m\u001b[0;34m\u001b[0m\u001b[0m\n\u001b[0m\u001b[1;32m    196\u001b[0m   \u001b[0mtensor_util\u001b[0m\u001b[0;34m.\u001b[0m\u001b[0mmaybe_set_static_shape\u001b[0m\u001b[0;34m(\u001b[0m\u001b[0mresult\u001b[0m\u001b[0;34m,\u001b[0m \u001b[0mshape\u001b[0m\u001b[0;34m)\u001b[0m\u001b[0;34m\u001b[0m\u001b[0;34m\u001b[0m\u001b[0m\n\u001b[1;32m    197\u001b[0m   \u001b[0;32mreturn\u001b[0m \u001b[0mresult\u001b[0m\u001b[0;34m\u001b[0m\u001b[0;34m\u001b[0m\u001b[0m\n",
            "\u001b[0;32m/usr/local/lib/python3.6/dist-packages/tensorflow/python/ops/gen_array_ops.py\u001b[0m in \u001b[0;36mreshape\u001b[0;34m(tensor, shape, name)\u001b[0m\n\u001b[1;32m   8363\u001b[0m     \u001b[0;32mtry\u001b[0m\u001b[0;34m:\u001b[0m\u001b[0;34m\u001b[0m\u001b[0;34m\u001b[0m\u001b[0m\n\u001b[1;32m   8364\u001b[0m       _result = pywrap_tfe.TFE_Py_FastPathExecute(\n\u001b[0;32m-> 8365\u001b[0;31m         _ctx, \"Reshape\", name, tensor, shape)\n\u001b[0m\u001b[1;32m   8366\u001b[0m       \u001b[0;32mreturn\u001b[0m \u001b[0m_result\u001b[0m\u001b[0;34m\u001b[0m\u001b[0;34m\u001b[0m\u001b[0m\n\u001b[1;32m   8367\u001b[0m     \u001b[0;32mexcept\u001b[0m \u001b[0m_core\u001b[0m\u001b[0;34m.\u001b[0m\u001b[0m_NotOkStatusException\u001b[0m \u001b[0;32mas\u001b[0m \u001b[0me\u001b[0m\u001b[0;34m:\u001b[0m\u001b[0;34m\u001b[0m\u001b[0;34m\u001b[0m\u001b[0m\n",
            "\u001b[0;31mKeyboardInterrupt\u001b[0m: "
          ]
        }
      ]
    },
    {
      "cell_type": "code",
      "metadata": {
        "colab": {
          "base_uri": "https://localhost:8080/"
        },
        "id": "lffIufRa0gjw",
        "outputId": "eade8b88-731e-4b36-b4b4-dccbcc752c62"
      },
      "source": [
        "test_model(mode = \"LAMBADA\",\r\n",
        "               dataset_input_path = \"../data/lambada_test_plain_text.txt\",\r\n",
        "               weights_input_path = \"weights_colab/checkpoint3\",\r\n",
        "               results_output_path = \"results/test_lambada.txt\",\r\n",
        "               results_output_mode = \"w\",\r\n",
        "               max_context_length=1023)\r\n"
      ],
      "execution_count": 5,
      "outputs": [
        {
          "output_type": "stream",
          "text": [
            "iteration:  0  of  5153\n",
            "iteration:  100  of  5153\n",
            "iteration:  200  of  5153\n",
            "iteration:  300  of  5153\n",
            "iteration:  400  of  5153\n",
            "iteration:  500  of  5153\n",
            "iteration:  600  of  5153\n",
            "iteration:  700  of  5153\n",
            "iteration:  800  of  5153\n",
            "iteration:  900  of  5153\n",
            "iteration:  1000  of  5153\n",
            "iteration:  1100  of  5153\n",
            "iteration:  1200  of  5153\n",
            "iteration:  1300  of  5153\n",
            "iteration:  1400  of  5153\n",
            "iteration:  1500  of  5153\n",
            "iteration:  1600  of  5153\n",
            "iteration:  1700  of  5153\n",
            "iteration:  1800  of  5153\n",
            "iteration:  1900  of  5153\n",
            "iteration:  2000  of  5153\n",
            "iteration:  2100  of  5153\n",
            "iteration:  2200  of  5153\n",
            "iteration:  2300  of  5153\n",
            "iteration:  2400  of  5153\n",
            "iteration:  2500  of  5153\n",
            "iteration:  2600  of  5153\n",
            "iteration:  2700  of  5153\n",
            "iteration:  2800  of  5153\n",
            "iteration:  2900  of  5153\n",
            "iteration:  3000  of  5153\n",
            "iteration:  3100  of  5153\n",
            "iteration:  3200  of  5153\n",
            "iteration:  3300  of  5153\n",
            "iteration:  3400  of  5153\n",
            "iteration:  3500  of  5153\n",
            "iteration:  3600  of  5153\n",
            "iteration:  3700  of  5153\n",
            "iteration:  3800  of  5153\n",
            "iteration:  3900  of  5153\n",
            "iteration:  4000  of  5153\n",
            "iteration:  4100  of  5153\n",
            "iteration:  4200  of  5153\n",
            "iteration:  4300  of  5153\n",
            "iteration:  4400  of  5153\n",
            "iteration:  4500  of  5153\n",
            "iteration:  4600  of  5153\n",
            "iteration:  4700  of  5153\n",
            "iteration:  4800  of  5153\n",
            "iteration:  4900  of  5153\n",
            "iteration:  5000  of  5153\n",
            "iteration:  5100  of  5153\n"
          ],
          "name": "stdout"
        }
      ]
    },
    {
      "cell_type": "code",
      "metadata": {
        "colab": {
          "base_uri": "https://localhost:8080/"
        },
        "id": "NQgLlSI01Jjy",
        "outputId": "7ba5e11d-140e-4907-c609-eee874705cf2"
      },
      "source": [
        "test_model(mode = \"CBT\",\r\n",
        "               dataset_input_path = \"../data/cbtest_CN_test_2500ex.txt\",\r\n",
        "               weights_input_path = \"weights_colab/checkpoint3\",\r\n",
        "               results_output_path = \"results/test_cbt_CN.txt\",\r\n",
        "               results_output_mode = \"w\",\r\n",
        "               max_context_length=1023)"
      ],
      "execution_count": 7,
      "outputs": [
        {
          "output_type": "stream",
          "text": [
            "iteration:  0  of  2500\n",
            "iteration:  100  of  2500\n",
            "iteration:  200  of  2500\n",
            "iteration:  300  of  2500\n",
            "iteration:  400  of  2500\n",
            "iteration:  500  of  2500\n",
            "iteration:  600  of  2500\n",
            "iteration:  700  of  2500\n",
            "iteration:  800  of  2500\n",
            "iteration:  900  of  2500\n",
            "iteration:  1000  of  2500\n",
            "iteration:  1100  of  2500\n",
            "iteration:  1200  of  2500\n",
            "iteration:  1300  of  2500\n",
            "iteration:  1400  of  2500\n",
            "iteration:  1500  of  2500\n",
            "iteration:  1600  of  2500\n",
            "iteration:  1700  of  2500\n",
            "iteration:  1800  of  2500\n",
            "iteration:  1900  of  2500\n",
            "iteration:  2000  of  2500\n",
            "iteration:  2100  of  2500\n",
            "iteration:  2200  of  2500\n",
            "iteration:  2300  of  2500\n",
            "iteration:  2400  of  2500\n"
          ],
          "name": "stdout"
        }
      ]
    },
    {
      "cell_type": "code",
      "metadata": {
        "id": "bD1Ccu-DfnuG",
        "colab": {
          "base_uri": "https://localhost:8080/"
        },
        "outputId": "f3d367ab-0236-4aff-b98c-7912ab7a7b5a"
      },
      "source": [
        "test_model(mode = \"CBT\",\r\n",
        "               dataset_input_path = \"../data/cbtest_NE_test_2500ex.txt\",\r\n",
        "               weights_input_path = \"weights_colab/checkpoint3\",\r\n",
        "               results_output_path = \"results/test_cbt_NE.txt\",\r\n",
        "               results_output_mode = \"w\",\r\n",
        "               max_context_length=1023)"
      ],
      "execution_count": 6,
      "outputs": [
        {
          "output_type": "stream",
          "text": [
            "iteration:  0  of  2500\n",
            "iteration:  100  of  2500\n",
            "iteration:  200  of  2500\n",
            "iteration:  300  of  2500\n",
            "iteration:  400  of  2500\n",
            "iteration:  500  of  2500\n",
            "iteration:  600  of  2500\n",
            "iteration:  700  of  2500\n",
            "iteration:  800  of  2500\n",
            "iteration:  900  of  2500\n",
            "iteration:  1000  of  2500\n",
            "iteration:  1100  of  2500\n",
            "iteration:  1200  of  2500\n",
            "iteration:  1300  of  2500\n",
            "iteration:  1400  of  2500\n",
            "iteration:  1500  of  2500\n",
            "iteration:  1600  of  2500\n",
            "iteration:  1700  of  2500\n",
            "iteration:  1800  of  2500\n",
            "iteration:  1900  of  2500\n",
            "iteration:  2000  of  2500\n",
            "iteration:  2100  of  2500\n",
            "iteration:  2200  of  2500\n",
            "iteration:  2300  of  2500\n",
            "iteration:  2400  of  2500\n"
          ],
          "name": "stdout"
        }
      ]
    },
    {
      "cell_type": "code",
      "metadata": {
        "id": "6jXyvd-m-Gmp"
      },
      "source": [
        ""
      ],
      "execution_count": null,
      "outputs": []
    }
  ]
}